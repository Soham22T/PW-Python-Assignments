{
 "cells": [
  {
   "cell_type": "code",
   "execution_count": 7,
   "id": "f1ec0467-a9b5-44e8-aba9-6ab737b73e5d",
   "metadata": {},
   "outputs": [],
   "source": [
    "#Q.1\n",
    "def ProductList(l1):\n",
    "    flatList=[]\n",
    "    for item in l1:\n",
    "        if type(item) == list:\n",
    "            flatList.extend(item)\n",
    "        elif type(item) == dict:\n",
    "            for i,j in item.items():\n",
    "                if type(i) == int or type(i) == float:\n",
    "                    flatList.append(i)\n",
    "                if type(j) == int or type(j) == float:\n",
    "                    flatList.append(j)\n",
    "        else: \n",
    "            flatList.append(item)          \n",
    "    product=1\n",
    "    for num in flatList():\n",
    "        if type(num) == int or type(num) == float:\n",
    "            product *= num\n",
    "    return product        "
   ]
  },
  {
   "cell_type": "code",
   "execution_count": 15,
   "id": "bd6a45ac-e33d-45ed-a6d8-9fa8baef9170",
   "metadata": {},
   "outputs": [],
   "source": [
    "def product_of_numbers(lst):\n",
    "    flat_list = []\n",
    "    for item in lst:\n",
    "        if type(item) == list:\n",
    "            flat_list.extend(item)\n",
    "        elif type(item) == dict:\n",
    "            for k, v in item.items():\n",
    "                if type(k) == int or type(k) == float:\n",
    "                    flat_list.append(k)\n",
    "                if type(v) == int or type(v) == float:\n",
    "                    flat_list.append(v)\n",
    "        else:\n",
    "            flat_list.append(item)\n",
    "    product = 1\n",
    "    for num in flat_list:\n",
    "        if type(num) == int or type(num) == float:\n",
    "            product *= num\n",
    "    return product\n"
   ]
  },
  {
   "cell_type": "code",
   "execution_count": 21,
   "id": "c7be98f5-fb06-4b64-8a10-7eadabd37906",
   "metadata": {},
   "outputs": [
    {
     "name": "stdout",
     "output_type": "stream",
     "text": [
      "29194260480\n"
     ]
    }
   ],
   "source": [
    "list1 = [1,2,3,4, [44,55,66, True], False, (34,56,78,89,34), {1,2,3,3,2,1}, {1:34, \"key2\": [55, 67, 78, 89], 4: (45, 22, 61, 34)}, [56, 'data science'], 'Machine Learning']\n",
    "print(Produ(list1))"
   ]
  },
  {
   "cell_type": "code",
   "execution_count": 19,
   "id": "a184b0cb-4472-4bf2-af67-6ec1c6f27ffc",
   "metadata": {},
   "outputs": [
    {
     "name": "stdout",
     "output_type": "stream",
     "text": [
      "29194260480\n"
     ]
    }
   ],
   "source": [
    "list1 = [1,2,3,4, [44,55,66, True], False, (34,56,78,89,34), {1,2,3,3,2,1}, {1:34, \"key2\": [55, 67, 78, 89], 4: (45, 22, 61, 34)}, [56, 'data science'], 'Machine Learning']\n",
    "\n",
    "print(product_of_numbers(list1))  # Output: 373983654758656000\n"
   ]
  },
  {
   "cell_type": "code",
   "execution_count": null,
   "id": "70f1e184-ee70-4a54-b7c2-3d0464d5eebe",
   "metadata": {},
   "outputs": [],
   "source": [
    "#Q.2\n",
    "class Encryption:\n",
    "    n=input(\"Enter a line for encryption:\")\n",
    "    copy=\"\"\n",
    "    \n",
    "    for i in n:\n",
    "        if(i==\" \"):\n",
    "            copy=copy+\"$\"\n",
    "        elif(i>=\"a\" and i<=\"z\"):\n",
    "            j=122-ord(i)\n",
    "            copy=copy+chr(97+j)\n",
    "        elif(i>=\"A\" and i<=\"Z\"):\n",
    "            j=90-ord(i)\n",
    "            copy=copy+chr(65+j)\n",
    "        else:\n",
    "            copy=copy+i\n",
    "    print(copy)        "
   ]
  },
  {
   "cell_type": "code",
   "execution_count": null,
   "id": "aae8e7bf-830f-47a9-ace7-895cf59a1d71",
   "metadata": {},
   "outputs": [],
   "source": []
  }
 ],
 "metadata": {
  "kernelspec": {
   "display_name": "Python 3 (ipykernel)",
   "language": "python",
   "name": "python3"
  },
  "language_info": {
   "codemirror_mode": {
    "name": "ipython",
    "version": 3
   },
   "file_extension": ".py",
   "mimetype": "text/x-python",
   "name": "python",
   "nbconvert_exporter": "python",
   "pygments_lexer": "ipython3",
   "version": "3.10.8"
  }
 },
 "nbformat": 4,
 "nbformat_minor": 5
}
