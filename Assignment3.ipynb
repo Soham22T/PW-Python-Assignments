{
 "cells": [
  {
   "cell_type": "code",
   "execution_count": 3,
   "id": "cea08d74-9d1b-4eeb-be22-e43f18845e6e",
   "metadata": {},
   "outputs": [
    {
     "name": "stdout",
     "output_type": "stream",
     "text": [
      "Sorted list of players based on their runs:\n",
      "Virat Kohli : 24936\n",
      "Jack Kallis : 25534\n",
      "Ricky Ponting : 27483\n",
      "Sachin Tendulkar : 34357\n"
     ]
    }
   ],
   "source": [
    "#Q.1\n",
    "players = [('Sachin Tendulkar', 34357), ('Ricky Ponting', 27483), ('Jack Kallis', 25534), ('Virat Kohli', 24936)]\n",
    "sorted_players=sorted(players, key=lambda x: x[1])\n",
    "print(\"Sorted list of players based on their runs:\")\n",
    "for player in sorted_players:\n",
    "    print(player[0], \":\", player[1])"
   ]
  },
  {
   "cell_type": "code",
   "execution_count": 2,
   "id": "53265ee4-0083-4fca-acfb-c43a1791db43",
   "metadata": {},
   "outputs": [
    {
     "name": "stdout",
     "output_type": "stream",
     "text": [
      "[1, 4, 9, 16, 25, 36, 49, 64, 81, 100]\n"
     ]
    }
   ],
   "source": [
    "#Q.2\n",
    "num_list=[1, 2, 3, 4, 5, 6, 7, 8, 9, 10]\n",
    "sq_num=list(map(lambda x:x**2,num_list))\n",
    "print(sq_num)"
   ]
  },
  {
   "cell_type": "code",
   "execution_count": 4,
   "id": "294d1ba0-0a43-49c8-a81b-4ccf7440f592",
   "metadata": {},
   "outputs": [
    {
     "name": "stdout",
     "output_type": "stream",
     "text": [
      "('1', '2', '3', '4', '5', '6', '7', '8', '9', '10')\n"
     ]
    }
   ],
   "source": [
    "#Q.3\n",
    "int_num_list=[1, 2, 3, 4, 5, 6, 7, 8, 9, 10]\n",
    "string_num_list=tuple(map(lambda x:str(x),int_num_list))\n",
    "print(string_num_list)\n"
   ]
  },
  {
   "cell_type": "code",
   "execution_count": 5,
   "id": "fd03a1de-29df-4e42-96f0-d422b8336bce",
   "metadata": {},
   "outputs": [
    {
     "name": "stdout",
     "output_type": "stream",
     "text": [
      "Product of numbers from 1 to 25: 15511210043330985984000000\n"
     ]
    }
   ],
   "source": [
    "#Q.4\n",
    "from functools import reduce\n",
    "\n",
    "# Sample list of numbers\n",
    "numbers = [x for x in range(1, 26)]\n",
    "\n",
    "# Use the reduce function to compute the product\n",
    "product = reduce(lambda x, y: x*y, numbers)\n",
    "\n",
    "# Print the product\n",
    "print(\"Product of numbers from 1 to 25:\", product)\n"
   ]
  },
  {
   "cell_type": "code",
   "execution_count": 6,
   "id": "3373e932-82fa-4fe2-91f4-384572cb20d1",
   "metadata": {},
   "outputs": [
    {
     "name": "stdout",
     "output_type": "stream",
     "text": [
      "Numbers that are divisible by 2 and 3: [6, 60, 90, 120]\n"
     ]
    }
   ],
   "source": [
    "#Q.5\n",
    "# Sample list of numbers\n",
    "numbers = [2, 3, 6, 9, 27, 60, 90, 120, 55, 46]\n",
    "\n",
    "# Use the filter function to find the numbers that are divisible by 2 and 3\n",
    "result = list(filter(lambda x: x % 2 == 0 and x % 3 == 0, numbers))\n",
    "\n",
    "# Print the result\n",
    "print(\"Numbers that are divisible by 2 and 3:\", result)\n"
   ]
  },
  {
   "cell_type": "code",
   "execution_count": 7,
   "id": "1471303f-1be8-4597-b6ce-63d2889e882b",
   "metadata": {},
   "outputs": [
    {
     "name": "stdout",
     "output_type": "stream",
     "text": [
      "Palindrome words are: ['python', 'php', 'aba', 'radar', 'level']\n"
     ]
    }
   ],
   "source": [
    "#Q.6\n",
    "string_list=['python', 'php', 'aba', 'radar', 'level']\n",
    "palindrome=list(filter(lambda x:x[::-1] ,string_list))\n",
    "print(\"Palindrome words are:\",palindrome)\n"
   ]
  },
  {
   "cell_type": "code",
   "execution_count": null,
   "id": "5fa0e314-ecec-47b4-93ba-bddb8d6fd335",
   "metadata": {},
   "outputs": [],
   "source": []
  }
 ],
 "metadata": {
  "kernelspec": {
   "display_name": "Python 3 (ipykernel)",
   "language": "python",
   "name": "python3"
  },
  "language_info": {
   "codemirror_mode": {
    "name": "ipython",
    "version": 3
   },
   "file_extension": ".py",
   "mimetype": "text/x-python",
   "name": "python",
   "nbconvert_exporter": "python",
   "pygments_lexer": "ipython3",
   "version": "3.10.8"
  }
 },
 "nbformat": 4,
 "nbformat_minor": 5
}
