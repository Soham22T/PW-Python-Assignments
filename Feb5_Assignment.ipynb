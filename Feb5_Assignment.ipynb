{
 "cells": [
  {
   "cell_type": "code",
   "execution_count": 9,
   "id": "59c03e5e-ab7f-426b-9ed2-c90b83235ddb",
   "metadata": {},
   "outputs": [
    {
     "name": "stdout",
     "output_type": "stream",
     "text": [
      "John is walking\n",
      "31\n"
     ]
    }
   ],
   "source": [
    "#Q.1\n",
    "#In Object-Oriented Programming (OOP), a Class is a blueprint or a template that defines the attributes and behaviors (methods) of an object\n",
    "#An Object, on the other hand, is an instance of a class. It represents a specific entity in the real world, and it has its own set of attributes and behaviors defined by the class.\n",
    "#For example, let's consider a Class called Person that defines the attributes and behaviors of a person, such as their name, age, gender, and the ability to walk.\n",
    "class Person:\n",
    "    def __init__(self,name,age,gender):\n",
    "        self.name=name\n",
    "        self.age=age\n",
    "        self.gender=gender\n",
    "    def walk(self):\n",
    "        print(f\"{self.name} is walking\")\n",
    "\n",
    "person1=Person(\"John\",22,\"Male\")\n",
    "person2=Person(\"Mary\",31,\"Female\")\n",
    "person1.walk()\n",
    "print(person2.age)"
   ]
  },
  {
   "cell_type": "code",
   "execution_count": null,
   "id": "07ee48b4-4dea-42fa-92a7-9ecfbd7e6196",
   "metadata": {},
   "outputs": [],
   "source": [
    "#Q.2\n",
    "#The four pillars of OOPs are Inheritance, Polymorphism, Encapsulation and Abstraction"
   ]
  },
  {
   "cell_type": "code",
   "execution_count": 7,
   "id": "9a253c50-2eae-4e87-ae48-c22a1a677f97",
   "metadata": {},
   "outputs": [],
   "source": [
    "#Q.3\n",
    "#The __init__() function is a special method in Python classes that is used to initialize and set up the instance variables of an object when it is created. It is called automatically when an object of a class is instantiated using the class name followed by parentheses.\n",
    "#The primary purpose of the __init__() method is to assign values to the object's properties or attributes. This method allows the user to provide initial values for the object's attributes when the object is created.\n",
    "class Person:\n",
    "    def __init__(self, name, age):\n",
    "        self.name = name\n",
    "        self.age = age\n",
    "person1 = Person(\"John\", 30)\n",
    "person2 = Person(\"Sarah\", 25)\n"
   ]
  },
  {
   "cell_type": "code",
   "execution_count": 8,
   "id": "04f51d20-d25c-44d7-a51b-5caa43319b9e",
   "metadata": {},
   "outputs": [],
   "source": [
    "#Q.4\n",
    "#In object-oriented programming (OOP), \"self\" refers to the current object or instance of a class.\n",
    "#When we create an object from a class, it becomes an instance of that class, and \"self\" is used to refer to that instance. \"Self\" is a way to access the properties and methods of an object from within that object's own code.\n"
   ]
  },
  {
   "cell_type": "code",
   "execution_count": null,
   "id": "b3f36918-4040-4f91-8e72-0ed408eb31b2",
   "metadata": {},
   "outputs": [],
   "source": [
    "#Q.5\n",
    "#Inheritance is a fundamental concept in object-oriented programming that allows a new class (derived class) to inherit properties and methods of an existing class (base class or parent class). This enables the creation of a hierarchy of classes with specialized functionality and allows code reuse, thus reducing redundancy and improving maintainability.\n",
    "#There are different types of inheritance:\n",
    "#1)Single Inheritance: In single inheritance, a derived class inherits properties and methods from a single base class.\n",
    "class Animal:\n",
    "    def __init__(self, name):\n",
    "        self.name = name\n",
    "        \n",
    "    def speak(self):\n",
    "        print(\"The animal speaks.\")\n",
    "        \n",
    "class Dog(Animal):\n",
    "    def __init__(self, name):\n",
    "        super().__init__(name)\n",
    "        \n",
    "    def speak(self):\n",
    "        print(\"The dog barks.\")\n",
    "#2)Multiple Inheritance: In multiple inheritance, a derived class inherits properties and methods from multiple base classes.\n",
    "class A:\n",
    "    def method_a(self):\n",
    "        print(\"Method A\")\n",
    "        \n",
    "class B:\n",
    "    def method_b(self):\n",
    "        print(\"Method B\")\n",
    "        \n",
    "class C(A, B):\n",
    "    def method_c(self):\n",
    "        print(\"Method C\")\n",
    "#3)Multi-Level Inheritance: In multi-level inheritance, a derived class inherits properties and methods from a base class and another derived class.\n",
    "class Animal:\n",
    "    def __init__(self, name):\n",
    "        self.name = name\n",
    "        \n",
    "    def speak(self):\n",
    "        print(\"The animal speaks.\")\n",
    "        \n",
    "class Mammal(Animal):\n",
    "    def __init__(self, name):\n",
    "        super().__init__(name)\n",
    "        \n",
    "    def feed_milk(self):\n",
    "        print(\"The mammal feeds milk.\")\n",
    "        \n",
    "class Dog(Mammal):\n",
    "    def __init__(self, name):\n",
    "        super().__init__(name)\n",
    "        \n",
    "    def speak(self):\n",
    "        print(\"The dog barks.\")\n"
   ]
  }
 ],
 "metadata": {
  "kernelspec": {
   "display_name": "Python 3 (ipykernel)",
   "language": "python",
   "name": "python3"
  },
  "language_info": {
   "codemirror_mode": {
    "name": "ipython",
    "version": 3
   },
   "file_extension": ".py",
   "mimetype": "text/x-python",
   "name": "python",
   "nbconvert_exporter": "python",
   "pygments_lexer": "ipython3",
   "version": "3.10.8"
  }
 },
 "nbformat": 4,
 "nbformat_minor": 5
}
