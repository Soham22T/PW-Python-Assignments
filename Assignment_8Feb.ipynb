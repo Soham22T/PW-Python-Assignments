{
 "cells": [
  {
   "cell_type": "code",
   "execution_count": 2,
   "id": "3e8cf710-759d-4adf-8c0a-b473de886fb7",
   "metadata": {},
   "outputs": [],
   "source": [
    "#Q.1\n",
    "#Abstraction is a key concept in Object-Oriented Programming (OOP) that refers to the practice of hiding the implementation details of a class or object and showing only the essential features that are relevant to the user. The idea behind abstraction is to provide a clear, simplified interface for users to interact with an object, without requiring them to know the underlying details of how it works.\n",
    "#For example, consider a class named \"Vehicle\" that represents a generic vehicle. The class might include properties such as make, model, year, and engine size, and methods such as start, stop, and accelerate. These properties and methods form the interface of the class, which provides a simple and intuitive way for users to interact with objects of the \"Vehicle\" type.\n",
    "#The implementation details of the \"Vehicle\" class, such as how the engine works, are hidden from the user. This is the essence of abstraction: by hiding the complexity of the implementation, the user is able to focus on the essential features and interact with the object in a simple and intuitive way.\n",
    "\n",
    "class Vehicle:\n",
    "    def __init__(self,make,model,year,engine_size):\n",
    "        self.make=make\n",
    "        self.model=model\n",
    "        self.year=year\n",
    "        self.engine_size=engine_size\n",
    "    def start(self):\n",
    "        print(\"Vehicle Start\")\n",
    "    def stop(self):\n",
    "        print(\"Vehicle Stop\")\n",
    "    def Accelerate(self):\n",
    "        print(\"Start Accelerating\")\n",
    "        \n",
    "#In this example, the \"Vehicle\" class provides a clear and simple interface for users to interact with objects of the \"Vehicle\" type. The user can create objects of this type, set their properties, and call their methods, without having to know anything about the underlying implementation details.\n",
    "        "
   ]
  },
  {
   "cell_type": "code",
   "execution_count": 3,
   "id": "947e927c-49f4-45ef-93f8-3ad256de46fc",
   "metadata": {},
   "outputs": [],
   "source": [
    "#Q.1\n",
    "#Abstraction and encapsulation are two important concepts in object-oriented programming (OOP). While both are related to hiding implementation details and providing a simplified interface to the user, there is a difference between the two.\n",
    "#Abstraction refers to the practice of showing only the essential features of an object and hiding the implementation details. The goal of abstraction is to provide a simplified view of the object that focuses on what it does, rather than how it does it. For example, consider a class named \"Vehicle\" that represents a generic vehicle. The class might include properties such as make, model, year, and engine size, and methods such as start, stop, and accelerate. These properties and methods form the interface of the class, which provides a simple and intuitive way for users to interact with objects of the \"Vehicle\" type, without having to know the underlying details of how the vehicle works.\n",
    "#Encapsulation, on the other hand, refers to the practice of combining the data and behavior of an object into a single unit, or object. The goal of encapsulation is to create a secure and isolated environment for the object, where its data is protected from external access and modification, and its behavior can be controlled through a well-defined interface. For example, the properties of the \"Vehicle\" class in the previous example could be marked as private, to prevent external access and modification. This ensures that the data of the object is secure and can only be manipulated through the methods provided by the class.\n",
    "class Vehicles:\n",
    "    def __init__(self, make, model, year, engine_size):\n",
    "        self.__make = make\n",
    "        self.__model = model\n",
    "        self.__year = year\n",
    "        self.__engine_size = engine_size\n",
    "\n",
    "    def start(self):\n",
    "        print(\"Vehicle started\")\n",
    "\n",
    "    def stop(self):\n",
    "        print(\"Vehicle stopped\")\n",
    "\n",
    "    def accelerate(self):\n",
    "        print(\"Vehicle accelerating\")\n",
    "        \n",
    "#In this example, the properties of the \"Vehicle\" class have been marked as private, by adding two underscores before the name of each property. This ensures that the data of the object can only be accessed and modified through the methods provided by the class, providing a secure and isolated environment for the object. The user can still interact with the object through the interface provided by the class, but the implementation details are hidden and protected.\n",
    "\n",
    "\n"
   ]
  },
  {
   "cell_type": "code",
   "execution_count": 7,
   "id": "fc05de75-48ed-4aa3-ac3d-80f186fa375a",
   "metadata": {},
   "outputs": [],
   "source": [
    "#Q.3\n",
    "#The abc module (abbreviation for abstract base classes) in Python is a module that provides support for defining abstract base classes (ABCs). An abstract base class is a class that cannot be instantiated, but provides a common interface for its subclasses. It defines a set of methods and properties that subclasses must implement, and it provides a way to test if an object is an instance of a particular abstract base class, without having to rely on inheritance.\n",
    "#The abc module is used to define abstract base classes in Python, as a way to define a common interface for a group of related classes, and to ensure that the subclasses implement the required methods and properties. It provides a way to define abstract methods, which cannot be implemented in the abstract base class itself, but must be implemented by the subclasses. The abstract base class also provides a way to test if an object is an instance of a particular abstract base class, or if it provides a required method or property, without having to rely on inheritance.\n",
    "import abc\n",
    "class Shape(metaclass=abc.ABCMeta):\n",
    "    @abc.abstractmethod\n",
    "    def Area(self):\n",
    "        pass\n",
    "    def Perimeter(self):\n",
    "        pass\n",
    "\n",
    "class Circle(Shape):\n",
    "    def __init__(self,radius):\n",
    "        self.radius=radius\n",
    "    def Area(self):\n",
    "        return 3.14*self.radius*self.radius\n",
    "    def Perimeter(self):\n",
    "        return 2*3.14*self.radius\n",
    "#In this example, the Shape class is defined as an abstract base class using the abc module. The area and perimeter methods are marked as abstract using the abc.abstractmethod decorator, which means they cannot be implemented in the abstract base class, but must be implemented by the subclasses. The Circle class is a subclass of Shape, and it implements the area and perimeter methods, providing a concrete implementation of the abstract base class. The abc module provides a way to test if an object is an instance of Shape, and to verify that it provides the required methods and properties, without having to rely on inheritance.\n",
    "\n",
    "\n",
    "\n",
    "    \n",
    "    "
   ]
  },
  {
   "cell_type": "code",
   "execution_count": 9,
   "id": "dec0f2f4-0b12-4c69-a885-ea9033617999",
   "metadata": {},
   "outputs": [],
   "source": [
    "#Q.4\n",
    "#Data abstraction is the process of hiding the implementation details of data and providing a simplified view of the data to the user. The goal of data abstraction is to isolate the user from the underlying complexities of the data, and to provide a simple and intuitive way to interact with the data.\n",
    "\n",
    "#There are several ways to achieve data abstraction in programming:\n",
    "\n",
    "#->Abstraction classes: One way to achieve data abstraction is to define abstraction classes, which define the essential properties and behaviors of data, and hide the implementation details. For example, you can define a class that represents a stack data structure, and hide the details of how the stack is implemented (such as using an array or a linked list).\n",
    "\n",
    "#->Interfaces: Another way to achieve data abstraction is to define interfaces, which specify the methods and properties that a class must implement. For example, you can define an interface for a stack data structure, and then create classes that implement the interface, each providing its own implementation of the stack.\n",
    "\n",
    "#->Access control: Access control mechanisms, such as private and protected access modifiers, can be used to restrict access to the implementation details of data, and to ensure that the data can only be manipulated through the provided interface.\n",
    "\n",
    "#->Data hiding: Data hiding is a technique for achieving data abstraction by encapsulating the data and the methods that operate on the data within a class, and providing a simplified interface to the user. The implementation details of the data and methods are hidden from the user, and can only be accessed and manipulated through the provided interface.\n",
    "\n",
    "#->By combining these techniques, data abstraction can be achieved, and the implementation details of data can be hidden from the user, while still providing a simple and intuitive way to interact with the data.\n",
    "\n",
    "\n",
    "\n"
   ]
  },
  {
   "cell_type": "code",
   "execution_count": 11,
   "id": "ecd67f63-6d86-4c73-97c9-1d8b1a0842cd",
   "metadata": {},
   "outputs": [
    {
     "name": "stdout",
     "output_type": "stream",
     "text": [
      "314.0\n",
      "62.800000000000004\n"
     ]
    }
   ],
   "source": [
    "#Q.5\n",
    "#No, we cannot create an instance of an abstract class in Python. An abstract class is a class that defines the common interface for its subclasses, but cannot be instantiated on its own. The purpose of an abstract class is to provide a common interface for a group of related classes, and to ensure that the subclasses implement the required methods and properties.\n",
    "#In Python, we can define an abstract class using the abc (abstract base class) module. The abstract base class is defined as a class that uses the ABCMeta metaclass, and it contains abstract methods, which are defined using the abstractmethod decorator. Abstract methods are methods that are declared in the abstract base class, but do not have an implementation. They must be implemented by the subclasses\n",
    "import abc\n",
    "\n",
    "class Shape(metaclass=abc.ABCMeta):\n",
    "    @abc.abstractmethod\n",
    "    def area(self):\n",
    "        pass\n",
    "    \n",
    "    @abc.abstractmethod\n",
    "    def perimeter(self):\n",
    "        pass\n",
    "#In this example, the Shape class is defined as an abstract class using the abc module. The area and perimeter methods are marked as abstract using the abc.abstractmethod decorator, which means they cannot be implemented in the abstract base class, but must be implemented by the subclasses. Since the abstract class does not provide a complete implementation, it cannot be instantiated.\n",
    "#To use an abstract class, we must create a subclass that implements the abstract methods, and then create an instance of the subclass. Here's an example:\n",
    "class Circle(Shape):\n",
    "    def __init__(self, radius):\n",
    "        self.radius = radius\n",
    "    \n",
    "    def area(self):\n",
    "        return 3.14 * self.radius * self.radius\n",
    "    \n",
    "    def perimeter(self):\n",
    "        return 2 * 3.14 * self.radius\n",
    "\n",
    "circle = Circle(10)\n",
    "print(circle.area()) \n",
    "print(circle.perimeter()) \n",
    "\n",
    "#n this example, the Circle class is a subclass of the Shape abstract class, and it implements the area and perimeter methods. An instance of the Circle class can be created and used, because it provides a complete implementation of the abstract base class.\n"
   ]
  },
  {
   "cell_type": "code",
   "execution_count": null,
   "id": "d419031c-4b92-457c-823e-eec15de75a38",
   "metadata": {},
   "outputs": [],
   "source": []
  }
 ],
 "metadata": {
  "kernelspec": {
   "display_name": "Python 3 (ipykernel)",
   "language": "python",
   "name": "python3"
  },
  "language_info": {
   "codemirror_mode": {
    "name": "ipython",
    "version": 3
   },
   "file_extension": ".py",
   "mimetype": "text/x-python",
   "name": "python",
   "nbconvert_exporter": "python",
   "pygments_lexer": "ipython3",
   "version": "3.10.8"
  }
 },
 "nbformat": 4,
 "nbformat_minor": 5
}
