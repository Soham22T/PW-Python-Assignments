{
 "cells": [
  {
   "cell_type": "code",
   "execution_count": 13,
   "id": "8daadf2e-5ed3-40a0-8cc7-c16dc07fb5a9",
   "metadata": {},
   "outputs": [
    {
     "name": "stdin",
     "output_type": "stream",
     "text": [
      "Enter your percentage: 78\n"
     ]
    },
    {
     "name": "stdout",
     "output_type": "stream",
     "text": [
      "Your Grade is  C\n"
     ]
    }
   ],
   "source": [
    "#Q.1\n",
    "class Grade:\n",
    "    marks=int(input(\"Enter your percentage:\"))\n",
    "    if marks>90:\n",
    "        grade=\"A\"\n",
    "    elif marks<=90 and marks>80:\n",
    "        grade=\"B\"\n",
    "    elif marks<=80 and marks>60:\n",
    "        grade=\"C\"\n",
    "    else:\n",
    "        grade=\"D\"\n",
    "    print(\"Your Grade is \",grade)    "
   ]
  },
  {
   "cell_type": "code",
   "execution_count": 14,
   "id": "135bbcd5-410d-4c52-84b1-d9fdd15abb74",
   "metadata": {},
   "outputs": [
    {
     "name": "stdin",
     "output_type": "stream",
     "text": [
      "Enter the cost price of the bike: 56546\n"
     ]
    },
    {
     "name": "stdout",
     "output_type": "stream",
     "text": [
      "Your tax is  5654.6\n"
     ]
    }
   ],
   "source": [
    "#Q.2\n",
    "class RoadTax:\n",
    "    cp=int(input(\"Enter the cost price of the bike:\"))\n",
    "    if cp>100000:\n",
    "        tax=0.15*cp\n",
    "    elif cp<=100000 and cp>50000:\n",
    "        tax=0.1*cp\n",
    "    else:\n",
    "        tax=0.05*cp\n",
    "    print(\"Your tax is \",tax)    "
   ]
  },
  {
   "cell_type": "code",
   "execution_count": 15,
   "id": "e6b43e3e-7397-456a-be64-08d81a1de46b",
   "metadata": {},
   "outputs": [
    {
     "name": "stdin",
     "output_type": "stream",
     "text": [
      "Enter City: Delhi\n"
     ]
    },
    {
     "name": "stdout",
     "output_type": "stream",
     "text": [
      "Monument of  Delhi  is  Red Fort\n"
     ]
    }
   ],
   "source": [
    "#Q.3\n",
    "class Monuments:\n",
    "    city=input(\"Enter City:\")\n",
    "    if city == \"Delhi\":\n",
    "        monument=\"Red Fort\"\n",
    "    elif city == \"Agra\":\n",
    "        monument=\"Taj Mahal\"   \n",
    "    elif city == \"Jaipur\":\n",
    "        monument=\"Jal Mahal\"    \n",
    "    else:\n",
    "        monument=\"Data unavailable\"\n",
    "    print(\"Monument of \",city,\" is \",monument)\n",
    "    "
   ]
  },
  {
   "cell_type": "code",
   "execution_count": 22,
   "id": "f1b6b369-1aee-4848-a523-f570d35456f0",
   "metadata": {},
   "outputs": [
    {
     "name": "stdin",
     "output_type": "stream",
     "text": [
      "Enter a number: 300\n"
     ]
    },
    {
     "name": "stdout",
     "output_type": "stream",
     "text": [
      "The given number  300  can be divided  4  times until it is 10 or less by three\n"
     ]
    }
   ],
   "source": [
    "#Q.4\n",
    "n=int(input(\"Enter a number:\"))\n",
    "c=0\n",
    "copy=n\n",
    "while(copy>10):\n",
    "    c+=1\n",
    "    copy=copy/3\n",
    "print(\"The given number \",n,\" can be divided \",c,\" times until it is 10 or less by three\")    \n",
    "    "
   ]
  },
  {
   "cell_type": "code",
   "execution_count": 23,
   "id": "c4e30ba3-64b7-439f-b74e-d908b6c0c0ba",
   "metadata": {},
   "outputs": [
    {
     "name": "stdout",
     "output_type": "stream",
     "text": [
      "0\n",
      "1\n",
      "2\n",
      "3\n",
      "4\n"
     ]
    }
   ],
   "source": [
    "#Q.5\n",
    "#In Python, a while loop is used to repeat a block of code as long as a certain condition is true. The loop continues to execute until the condition becomes false.\n",
    "#While loops are useful when you want to repeat a block of code a certain number of times, or until a specific condition is met.\n",
    "#Here are some other examples of when you might use a while loop:\n",
    "#1)Reading data from a file until the end of the file is reached.\n",
    "#2)Repeatedly prompting the user for input until a valid input is received.\n",
    "#3)Implementing a game loop that runs until the game is over.\n",
    "i = 0\n",
    "while i < 5:\n",
    "    print(i)\n",
    "    i += 1\n"
   ]
  },
  {
   "cell_type": "code",
   "execution_count": null,
   "id": "de109c98-2ae8-4fcf-8403-c66acdd46121",
   "metadata": {},
   "outputs": [],
   "source": [
    "#Q.6\n",
    "n=int(input(\"Enter row of pattern:\"))\n",
    "n1=n2=n\n",
    "while(n>0):\n",
    "    j=1\n",
    "    while(j<=n):\n",
    "        print(j,end=\" \")\n",
    "        j+=1\n",
    "    print()\n",
    "    n-=1\n",
    "while(n1>0):\n",
    "    j=1\n",
    "    while(j<=n1):\n",
    "        print(\"*\",end=\" \")\n",
    "        j+=1\n",
    "    print()\n",
    "    n1-=1\n",
    "i=1\n",
    "while(i<=n2):\n",
    "    j=1\n",
    "    while(j<=n2):\n",
    "        print(\"*\",end=\" \")\n",
    "        j+=1\n",
    "    print()\n",
    "    i+=1"
   ]
  },
  {
   "cell_type": "code",
   "execution_count": 2,
   "id": "8268915e-cb03-4c8e-a3c8-847ab251d8be",
   "metadata": {},
   "outputs": [
    {
     "name": "stdout",
     "output_type": "stream",
     "text": [
      "10\n",
      "9\n",
      "8\n",
      "7\n",
      "6\n",
      "5\n",
      "4\n",
      "3\n",
      "2\n",
      "1\n"
     ]
    }
   ],
   "source": [
    "#Q.7\n",
    "i=10\n",
    "while i>=1:\n",
    "    print(i)\n",
    "    i -= 1\n",
    "    "
   ]
  },
  {
   "cell_type": "code",
   "execution_count": 1,
   "id": "76eb8a01-cb88-4b20-a31c-e4bb73821ed3",
   "metadata": {},
   "outputs": [
    {
     "name": "stdout",
     "output_type": "stream",
     "text": [
      "10\n",
      "9\n",
      "8\n",
      "7\n",
      "6\n",
      "5\n",
      "4\n",
      "3\n",
      "2\n",
      "1\n"
     ]
    }
   ],
   "source": [
    "#Q.8\n",
    "i=10\n",
    "while i>=1:\n",
    "    print(i)\n",
    "    i -= 1"
   ]
  },
  {
   "cell_type": "code",
   "execution_count": null,
   "id": "fdd662d5-30fb-4b2f-8061-e3ab1d6a8aff",
   "metadata": {},
   "outputs": [],
   "source": []
  }
 ],
 "metadata": {
  "kernelspec": {
   "display_name": "Python 3 (ipykernel)",
   "language": "python",
   "name": "python3"
  },
  "language_info": {
   "codemirror_mode": {
    "name": "ipython",
    "version": 3
   },
   "file_extension": ".py",
   "mimetype": "text/x-python",
   "name": "python",
   "nbconvert_exporter": "python",
   "pygments_lexer": "ipython3",
   "version": "3.10.8"
  }
 },
 "nbformat": 4,
 "nbformat_minor": 5
}
