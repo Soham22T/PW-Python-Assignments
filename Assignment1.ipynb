{
  "nbformat": 4,
  "nbformat_minor": 0,
  "metadata": {
    "colab": {
      "provenance": []
    },
    "kernelspec": {
      "name": "python3",
      "display_name": "Python 3"
    },
    "language_info": {
      "name": "python"
    }
  },
  "cells": [
    {
      "cell_type": "code",
      "execution_count": null,
      "metadata": {
        "id": "VCE1jOxYs8EH"
      },
      "outputs": [],
      "source": [
        "# Q.1\n",
        "num =int(input ('Enter a number:/n'))\n",
        "# for loop:for loop is used when the number of iterations are known or fixed.e.g.\n",
        "     for i in range(num):\n",
        "        print i\n",
        "        \n",
        "            \n",
        "# while loop:while loop is used when the number of iterations are not known.e.g.\n",
        "     while(True):\n",
        "        print(num)\n",
        "        n/=10"
      ]
    },
    {
      "cell_type": "code",
      "source": [
        "#Q.2\n",
        "s=0\n",
        "p=1\n",
        "for i in range(10):\n",
        "    s=s+i\n",
        "    p=p*i\n",
        "print(\"The sum is:\",s)\n",
        "print(\"The product is:\",p)    \n",
        "count =1\n",
        "sum=0\n",
        "prod = 1\n",
        "while count !=11:\n",
        "  sum+=count\n",
        "  prod *= count\n",
        "  count+=1\n",
        "print(\"The sum is:\",sum)\n",
        "print(\"The product is:\",prod)    \n",
        "\n",
        "\n"
      ],
      "metadata": {
        "colab": {
          "base_uri": "https://localhost:8080/"
        },
        "id": "ORsZszi_s9g8",
        "outputId": "9b2705ce-6c6a-4ad1-fce3-d48391403398"
      },
      "execution_count": 10,
      "outputs": [
        {
          "output_type": "stream",
          "name": "stdout",
          "text": [
            "The sum is: 45\n",
            "The product is: 0\n",
            "The sum is: 55\n",
            "The product is: 3628800\n"
          ]
        }
      ]
    },
    {
      "cell_type": "code",
      "source": [
        "#Q.3\n",
        "units=int(input())\n",
        "    \n",
        "if units<=100:\n",
        "    total=units*4.5\n",
        "if units>100 and units<=200:\n",
        "    total=100*4.5+(units-100)*6\n",
        "if units>200 and units<=300:\n",
        "    total=100*4.5+100*6+(units-200)*10\n",
        "if units>300:\n",
        "    total=100*4.5+100*6+100*10+(units-300)*20\n",
        "print(\"Electricity Bill is:\",total)\n",
        "\n",
        "            \n",
        "\n",
        "                \n",
        "              "
      ],
      "metadata": {
        "colab": {
          "base_uri": "https://localhost:8080/"
        },
        "id": "jUkpvVAItHp6",
        "outputId": "5ee9fd26-dcbc-43fc-c912-e3cf3e8f29ce"
      },
      "execution_count": 11,
      "outputs": [
        {
          "output_type": "stream",
          "name": "stdout",
          "text": [
            "107\n",
            "Electricity Bill is: 492.0\n"
          ]
        }
      ]
    },
    {
      "cell_type": "code",
      "source": [
        "#Q.4\n",
        "l=[]\n",
        "l1=[]\n",
        "l2=[]\n",
        "for i in range(100):\n",
        "  n=int(input())\n",
        "  l.append(n)\n",
        "for i in l:\n",
        "  num=l[i]*l[i]*l[i]\n",
        "  if num%4==0 or num%5==0:\n",
        "    l1.append(l[i])\n",
        "print(l1)    \n",
        "\n"
      ],
      "metadata": {
        "colab": {
          "base_uri": "https://localhost:8080/",
          "height": 408
        },
        "id": "ElwmQaep7vsI",
        "outputId": "889f6aae-9ced-4893-be1d-509750693c05"
      },
      "execution_count": 15,
      "outputs": [
        {
          "name": "stdout",
          "output_type": "stream",
          "text": [
            "34\n",
            "40\n",
            "5\n",
            "765\n",
            "563\n",
            "654\n",
            "21\n",
            "0\n",
            "45\n",
            "234\n"
          ]
        },
        {
          "output_type": "error",
          "ename": "IndexError",
          "evalue": "ignored",
          "traceback": [
            "\u001b[0;31m---------------------------------------------------------------------------\u001b[0m",
            "\u001b[0;31mIndexError\u001b[0m                                Traceback (most recent call last)",
            "\u001b[0;32m<ipython-input-15-1145b390c21d>\u001b[0m in \u001b[0;36m<module>\u001b[0;34m\u001b[0m\n\u001b[1;32m      7\u001b[0m   \u001b[0ml\u001b[0m\u001b[0;34m.\u001b[0m\u001b[0mappend\u001b[0m\u001b[0;34m(\u001b[0m\u001b[0mn\u001b[0m\u001b[0;34m)\u001b[0m\u001b[0;34m\u001b[0m\u001b[0;34m\u001b[0m\u001b[0m\n\u001b[1;32m      8\u001b[0m \u001b[0;32mfor\u001b[0m \u001b[0mi\u001b[0m \u001b[0;32min\u001b[0m \u001b[0ml\u001b[0m\u001b[0;34m:\u001b[0m\u001b[0;34m\u001b[0m\u001b[0;34m\u001b[0m\u001b[0m\n\u001b[0;32m----> 9\u001b[0;31m   \u001b[0mnum\u001b[0m\u001b[0;34m=\u001b[0m\u001b[0ml\u001b[0m\u001b[0;34m[\u001b[0m\u001b[0mi\u001b[0m\u001b[0;34m]\u001b[0m\u001b[0;34m*\u001b[0m\u001b[0ml\u001b[0m\u001b[0;34m[\u001b[0m\u001b[0mi\u001b[0m\u001b[0;34m]\u001b[0m\u001b[0;34m*\u001b[0m\u001b[0ml\u001b[0m\u001b[0;34m[\u001b[0m\u001b[0mi\u001b[0m\u001b[0;34m]\u001b[0m\u001b[0;34m\u001b[0m\u001b[0;34m\u001b[0m\u001b[0m\n\u001b[0m\u001b[1;32m     10\u001b[0m   \u001b[0;32mif\u001b[0m \u001b[0mnum\u001b[0m\u001b[0;34m%\u001b[0m\u001b[0;36m4\u001b[0m\u001b[0;34m==\u001b[0m\u001b[0;36m0\u001b[0m \u001b[0;32mor\u001b[0m \u001b[0mnum\u001b[0m\u001b[0;34m%\u001b[0m\u001b[0;36m5\u001b[0m\u001b[0;34m==\u001b[0m\u001b[0;36m0\u001b[0m\u001b[0;34m:\u001b[0m\u001b[0;34m\u001b[0m\u001b[0;34m\u001b[0m\u001b[0m\n\u001b[1;32m     11\u001b[0m     \u001b[0ml1\u001b[0m\u001b[0;34m.\u001b[0m\u001b[0mappend\u001b[0m\u001b[0;34m(\u001b[0m\u001b[0ml\u001b[0m\u001b[0;34m[\u001b[0m\u001b[0mi\u001b[0m\u001b[0;34m]\u001b[0m\u001b[0;34m)\u001b[0m\u001b[0;34m\u001b[0m\u001b[0;34m\u001b[0m\u001b[0m\n",
            "\u001b[0;31mIndexError\u001b[0m: list index out of range"
          ]
        }
      ]
    },
    {
      "cell_type": "code",
      "source": [
        "#Q.5\n",
        "string = \"I want to become a data scientist\"\n",
        "\n",
        "vowels = \"aeiouAEIOU\"\n",
        "count = 0\n",
        "\n",
        "for char in string:\n",
        "    if char in vowels:\n",
        "        count += 1\n",
        "\n",
        "print(\"Number of vowels in the string:\", count)\n"
      ],
      "metadata": {
        "colab": {
          "base_uri": "https://localhost:8080/"
        },
        "id": "4bArcRU2CQ1-",
        "outputId": "0a31c32b-c3fc-4939-8cb0-aec688bc8c9b"
      },
      "execution_count": 16,
      "outputs": [
        {
          "output_type": "stream",
          "name": "stdout",
          "text": [
            "Number of vowels in the string: 12\n"
          ]
        }
      ]
    },
    {
      "cell_type": "code",
      "source": [],
      "metadata": {
        "id": "5QRm5y28CRxc"
      },
      "execution_count": null,
      "outputs": []
    }
  ]
}